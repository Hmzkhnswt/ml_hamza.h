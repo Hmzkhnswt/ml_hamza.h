{
  "cells": [
    {
      "cell_type": "code",
      "execution_count": 1,
      "metadata": {
        "id": "Pt3njPwTYgw3"
      },
      "outputs": [],
      "source": [
        "import numpy as np\n",
        "import pandas as pd\n",
        "from sklearn.datasets import make_classification"
      ]
    },
    {
      "cell_type": "code",
      "execution_count": 2,
      "metadata": {
        "id": "7BsWDgjaYncT"
      },
      "outputs": [],
      "source": [
        "X,y = make_classification(n_features=5, n_redundant=0, n_informative=5,n_clusters_per_class=1)"
      ]
    },
    {
      "cell_type": "code",
      "execution_count": 3,
      "metadata": {
        "colab": {
          "base_uri": "https://localhost:8080/",
          "height": 223
        },
        "id": "OksCU9vaY5-L",
        "outputId": "803427a6-cedd-49a3-a5be-d92df2cab2a0"
      },
      "outputs": [
        {
          "name": "stdout",
          "output_type": "stream",
          "text": [
            "(100, 6)\n"
          ]
        },
        {
          "data": {
            "text/html": [
              "<div>\n",
              "<style scoped>\n",
              "    .dataframe tbody tr th:only-of-type {\n",
              "        vertical-align: middle;\n",
              "    }\n",
              "\n",
              "    .dataframe tbody tr th {\n",
              "        vertical-align: top;\n",
              "    }\n",
              "\n",
              "    .dataframe thead th {\n",
              "        text-align: right;\n",
              "    }\n",
              "</style>\n",
              "<table border=\"1\" class=\"dataframe\">\n",
              "  <thead>\n",
              "    <tr style=\"text-align: right;\">\n",
              "      <th></th>\n",
              "      <th>col1</th>\n",
              "      <th>col2</th>\n",
              "      <th>col3</th>\n",
              "      <th>col4</th>\n",
              "      <th>col5</th>\n",
              "      <th>target</th>\n",
              "    </tr>\n",
              "  </thead>\n",
              "  <tbody>\n",
              "    <tr>\n",
              "      <th>0</th>\n",
              "      <td>-5.113069</td>\n",
              "      <td>-1.037238</td>\n",
              "      <td>2.773671</td>\n",
              "      <td>-1.047138</td>\n",
              "      <td>5.365755</td>\n",
              "      <td>0</td>\n",
              "    </tr>\n",
              "    <tr>\n",
              "      <th>1</th>\n",
              "      <td>-4.410331</td>\n",
              "      <td>1.241765</td>\n",
              "      <td>-2.367322</td>\n",
              "      <td>2.058054</td>\n",
              "      <td>-1.961794</td>\n",
              "      <td>1</td>\n",
              "    </tr>\n",
              "    <tr>\n",
              "      <th>2</th>\n",
              "      <td>-0.019535</td>\n",
              "      <td>1.031547</td>\n",
              "      <td>2.565252</td>\n",
              "      <td>-2.707923</td>\n",
              "      <td>-1.344003</td>\n",
              "      <td>1</td>\n",
              "    </tr>\n",
              "    <tr>\n",
              "      <th>3</th>\n",
              "      <td>-1.838520</td>\n",
              "      <td>1.750219</td>\n",
              "      <td>0.162482</td>\n",
              "      <td>0.138112</td>\n",
              "      <td>-1.147988</td>\n",
              "      <td>1</td>\n",
              "    </tr>\n",
              "    <tr>\n",
              "      <th>4</th>\n",
              "      <td>0.514761</td>\n",
              "      <td>2.108339</td>\n",
              "      <td>0.271645</td>\n",
              "      <td>-1.641750</td>\n",
              "      <td>-0.483237</td>\n",
              "      <td>0</td>\n",
              "    </tr>\n",
              "  </tbody>\n",
              "</table>\n",
              "</div>"
            ],
            "text/plain": [
              "       col1      col2      col3      col4      col5  target\n",
              "0 -5.113069 -1.037238  2.773671 -1.047138  5.365755       0\n",
              "1 -4.410331  1.241765 -2.367322  2.058054 -1.961794       1\n",
              "2 -0.019535  1.031547  2.565252 -2.707923 -1.344003       1\n",
              "3 -1.838520  1.750219  0.162482  0.138112 -1.147988       1\n",
              "4  0.514761  2.108339  0.271645 -1.641750 -0.483237       0"
            ]
          },
          "execution_count": 3,
          "metadata": {},
          "output_type": "execute_result"
        }
      ],
      "source": [
        "df = pd.DataFrame(X,columns=['col1','col2','col3','col4','col5'])\n",
        "df['target'] = y\n",
        "print(df.shape)\n",
        "df.head()"
      ]
    },
    {
      "cell_type": "code",
      "execution_count": 4,
      "metadata": {
        "id": "bmPSHQpAaZZw"
      },
      "outputs": [],
      "source": [
        "# function for row sampling\n",
        "\n",
        "def sample_rows(df,percent):\n",
        "  return df.sample(int(percent*df.shape[0]),replace=True)"
      ]
    },
    {
      "cell_type": "code",
      "execution_count": 11,
      "metadata": {
        "id": "f-ziftsvbJ6j"
      },
      "outputs": [],
      "source": [
        "# function for feature sampling\n",
        "import random\n",
        "\n",
        "\n",
        "def sample_features(df,percent):\n",
        "  cols = random.sample(df.columns.tolist()[:-1],int(percent*(df.shape[1]-1)))\n",
        "  new_df = df[cols]\n",
        "  new_df['target'] = df['target']\n",
        "  return new_df"
      ]
    },
    {
      "cell_type": "code",
      "execution_count": 6,
      "metadata": {
        "id": "yoPV7Lkc50tL"
      },
      "outputs": [],
      "source": [
        "# function for combined sampling\n",
        "\n",
        "def combined_sampling(df,row_percent,col_percent):\n",
        "  new_df = sample_rows(df,row_percent)\n",
        "  return sample_features(new_df,col_percent)"
      ]
    },
    {
      "cell_type": "code",
      "execution_count": 10,
      "metadata": {
        "colab": {
          "base_uri": "https://localhost:8080/"
        },
        "id": "tAi9pPs49VsF",
        "outputId": "97589529-cfce-48d2-fb6d-03c3c6dfcf09"
      },
      "outputs": [
        {
          "ename": "TypeError",
          "evalue": "random_sample() takes at most 1 positional argument (2 given)",
          "output_type": "error",
          "traceback": [
            "\u001b[1;31m---------------------------------------------------------------------------\u001b[0m",
            "\u001b[1;31mTypeError\u001b[0m                                 Traceback (most recent call last)",
            "Cell \u001b[1;32mIn[10], line 1\u001b[0m\n\u001b[1;32m----> 1\u001b[0m df1 \u001b[39m=\u001b[39m combined_sampling(df,\u001b[39m0.5\u001b[39;49m,\u001b[39m0.5\u001b[39;49m)\n",
            "Cell \u001b[1;32mIn[6], line 5\u001b[0m, in \u001b[0;36mcombined_sampling\u001b[1;34m(df, row_percent, col_percent)\u001b[0m\n\u001b[0;32m      3\u001b[0m \u001b[39mdef\u001b[39;00m \u001b[39mcombined_sampling\u001b[39m(df,row_percent,col_percent):\n\u001b[0;32m      4\u001b[0m   new_df \u001b[39m=\u001b[39m sample_rows(df,row_percent)\n\u001b[1;32m----> 5\u001b[0m   \u001b[39mreturn\u001b[39;00m sample_features(new_df,col_percent)\n",
            "Cell \u001b[1;32mIn[9], line 6\u001b[0m, in \u001b[0;36msample_features\u001b[1;34m(df, percent)\u001b[0m\n\u001b[0;32m      5\u001b[0m \u001b[39mdef\u001b[39;00m \u001b[39msample_features\u001b[39m(df,percent):\n\u001b[1;32m----> 6\u001b[0m   cols \u001b[39m=\u001b[39m np\u001b[39m.\u001b[39;49mrandom\u001b[39m.\u001b[39;49msample(df\u001b[39m.\u001b[39;49mcolumns\u001b[39m.\u001b[39;49mtolist()[:\u001b[39m-\u001b[39;49m\u001b[39m1\u001b[39;49m],\u001b[39mint\u001b[39;49m(percent\u001b[39m*\u001b[39;49m(df\u001b[39m.\u001b[39;49mshape[\u001b[39m1\u001b[39;49m]\u001b[39m-\u001b[39;49m\u001b[39m1\u001b[39;49m)))\n\u001b[0;32m      7\u001b[0m   new_df \u001b[39m=\u001b[39m df[cols]\n\u001b[0;32m      8\u001b[0m   new_df[\u001b[39m'\u001b[39m\u001b[39mtarget\u001b[39m\u001b[39m'\u001b[39m] \u001b[39m=\u001b[39m df[\u001b[39m'\u001b[39m\u001b[39mtarget\u001b[39m\u001b[39m'\u001b[39m]\n",
            "File \u001b[1;32mmtrand.pyx:4708\u001b[0m, in \u001b[0;36mnumpy.random.mtrand.sample\u001b[1;34m()\u001b[0m\n",
            "File \u001b[1;32mmtrand.pyx:374\u001b[0m, in \u001b[0;36mnumpy.random.mtrand.RandomState.random_sample\u001b[1;34m()\u001b[0m\n",
            "\u001b[1;31mTypeError\u001b[0m: random_sample() takes at most 1 positional argument (2 given)"
          ]
        }
      ],
      "source": [
        "df1 = combined_sampling(df,0.5,0.5)"
      ]
    },
    {
      "cell_type": "code",
      "execution_count": null,
      "metadata": {
        "colab": {
          "base_uri": "https://localhost:8080/"
        },
        "id": "Xaq3G-P19Vy6",
        "outputId": "8cd80f49-6579-4031-812e-f2199d1afb0b"
      },
      "outputs": [
        {
          "name": "stderr",
          "output_type": "stream",
          "text": [
            "/usr/local/lib/python3.7/dist-packages/ipykernel_launcher.py:5: SettingWithCopyWarning: \n",
            "A value is trying to be set on a copy of a slice from a DataFrame.\n",
            "Try using .loc[row_indexer,col_indexer] = value instead\n",
            "\n",
            "See the caveats in the documentation: https://pandas.pydata.org/pandas-docs/stable/user_guide/indexing.html#returning-a-view-versus-a-copy\n",
            "  \"\"\"\n"
          ]
        }
      ],
      "source": [
        "df2 = combined_sampling(df,0.5,0.5)"
      ]
    },
    {
      "cell_type": "code",
      "execution_count": null,
      "metadata": {
        "colab": {
          "base_uri": "https://localhost:8080/"
        },
        "id": "WgPzMsz-9V5z",
        "outputId": "129228a4-037e-4c73-e81a-47ae83ebd218"
      },
      "outputs": [
        {
          "name": "stderr",
          "output_type": "stream",
          "text": [
            "/usr/local/lib/python3.7/dist-packages/ipykernel_launcher.py:5: SettingWithCopyWarning: \n",
            "A value is trying to be set on a copy of a slice from a DataFrame.\n",
            "Try using .loc[row_indexer,col_indexer] = value instead\n",
            "\n",
            "See the caveats in the documentation: https://pandas.pydata.org/pandas-docs/stable/user_guide/indexing.html#returning-a-view-versus-a-copy\n",
            "  \"\"\"\n"
          ]
        }
      ],
      "source": [
        "df3 = combined_sampling(df,0.5,0.5)"
      ]
    },
    {
      "cell_type": "code",
      "execution_count": null,
      "metadata": {
        "colab": {
          "base_uri": "https://localhost:8080/"
        },
        "id": "6XMaiuf59WHb",
        "outputId": "7536fcf6-f0bb-4821-d5e5-592ff3efc8e9"
      },
      "outputs": [
        {
          "name": "stdout",
          "output_type": "stream",
          "text": [
            "Index(['col5', 'col1', 'target'], dtype='object')\n",
            "Index(['col5', 'col1', 'target'], dtype='object')\n",
            "Index(['col3', 'col2', 'target'], dtype='object')\n"
          ]
        }
      ],
      "source": [
        "print(df1.columns)\n",
        "print(df2.columns)\n",
        "print(df3.columns)"
      ]
    },
    {
      "cell_type": "code",
      "execution_count": null,
      "metadata": {
        "colab": {
          "base_uri": "https://localhost:8080/",
          "height": 1000
        },
        "id": "zIq1H_X99WNj",
        "outputId": "11810499-c52c-4f11-f9cd-15a5c77afb8b"
      },
      "outputs": [
        {
          "data": {
            "text/html": [
              "<div>\n",
              "<style scoped>\n",
              "    .dataframe tbody tr th:only-of-type {\n",
              "        vertical-align: middle;\n",
              "    }\n",
              "\n",
              "    .dataframe tbody tr th {\n",
              "        vertical-align: top;\n",
              "    }\n",
              "\n",
              "    .dataframe thead th {\n",
              "        text-align: right;\n",
              "    }\n",
              "</style>\n",
              "<table border=\"1\" class=\"dataframe\">\n",
              "  <thead>\n",
              "    <tr style=\"text-align: right;\">\n",
              "      <th></th>\n",
              "      <th>col3</th>\n",
              "      <th>col2</th>\n",
              "      <th>target</th>\n",
              "    </tr>\n",
              "  </thead>\n",
              "  <tbody>\n",
              "    <tr>\n",
              "      <th>2</th>\n",
              "      <td>-0.943985</td>\n",
              "      <td>-1.727474</td>\n",
              "      <td>1</td>\n",
              "    </tr>\n",
              "    <tr>\n",
              "      <th>53</th>\n",
              "      <td>2.879522</td>\n",
              "      <td>-1.179645</td>\n",
              "      <td>0</td>\n",
              "    </tr>\n",
              "    <tr>\n",
              "      <th>17</th>\n",
              "      <td>-0.601854</td>\n",
              "      <td>0.240279</td>\n",
              "      <td>1</td>\n",
              "    </tr>\n",
              "    <tr>\n",
              "      <th>12</th>\n",
              "      <td>-1.209724</td>\n",
              "      <td>0.077615</td>\n",
              "      <td>1</td>\n",
              "    </tr>\n",
              "    <tr>\n",
              "      <th>8</th>\n",
              "      <td>-0.147061</td>\n",
              "      <td>-0.352877</td>\n",
              "      <td>0</td>\n",
              "    </tr>\n",
              "    <tr>\n",
              "      <th>6</th>\n",
              "      <td>-1.029536</td>\n",
              "      <td>-0.770751</td>\n",
              "      <td>1</td>\n",
              "    </tr>\n",
              "    <tr>\n",
              "      <th>94</th>\n",
              "      <td>-0.930578</td>\n",
              "      <td>-1.265605</td>\n",
              "      <td>1</td>\n",
              "    </tr>\n",
              "    <tr>\n",
              "      <th>4</th>\n",
              "      <td>0.022074</td>\n",
              "      <td>-0.911493</td>\n",
              "      <td>0</td>\n",
              "    </tr>\n",
              "    <tr>\n",
              "      <th>38</th>\n",
              "      <td>2.538559</td>\n",
              "      <td>-1.042250</td>\n",
              "      <td>0</td>\n",
              "    </tr>\n",
              "    <tr>\n",
              "      <th>40</th>\n",
              "      <td>0.595038</td>\n",
              "      <td>-0.162759</td>\n",
              "      <td>0</td>\n",
              "    </tr>\n",
              "    <tr>\n",
              "      <th>99</th>\n",
              "      <td>1.558165</td>\n",
              "      <td>-2.026716</td>\n",
              "      <td>0</td>\n",
              "    </tr>\n",
              "    <tr>\n",
              "      <th>25</th>\n",
              "      <td>-0.256852</td>\n",
              "      <td>-3.206283</td>\n",
              "      <td>1</td>\n",
              "    </tr>\n",
              "    <tr>\n",
              "      <th>91</th>\n",
              "      <td>-1.182347</td>\n",
              "      <td>-1.528637</td>\n",
              "      <td>0</td>\n",
              "    </tr>\n",
              "    <tr>\n",
              "      <th>12</th>\n",
              "      <td>-1.209724</td>\n",
              "      <td>0.077615</td>\n",
              "      <td>1</td>\n",
              "    </tr>\n",
              "    <tr>\n",
              "      <th>11</th>\n",
              "      <td>-0.679621</td>\n",
              "      <td>-1.275311</td>\n",
              "      <td>1</td>\n",
              "    </tr>\n",
              "    <tr>\n",
              "      <th>32</th>\n",
              "      <td>-1.343188</td>\n",
              "      <td>-0.141246</td>\n",
              "      <td>1</td>\n",
              "    </tr>\n",
              "    <tr>\n",
              "      <th>54</th>\n",
              "      <td>-0.384640</td>\n",
              "      <td>-0.270707</td>\n",
              "      <td>1</td>\n",
              "    </tr>\n",
              "    <tr>\n",
              "      <th>79</th>\n",
              "      <td>-0.558081</td>\n",
              "      <td>-1.985678</td>\n",
              "      <td>0</td>\n",
              "    </tr>\n",
              "    <tr>\n",
              "      <th>70</th>\n",
              "      <td>-0.438380</td>\n",
              "      <td>-1.497126</td>\n",
              "      <td>1</td>\n",
              "    </tr>\n",
              "    <tr>\n",
              "      <th>89</th>\n",
              "      <td>1.305171</td>\n",
              "      <td>-0.374577</td>\n",
              "      <td>0</td>\n",
              "    </tr>\n",
              "    <tr>\n",
              "      <th>10</th>\n",
              "      <td>-0.513609</td>\n",
              "      <td>-1.946675</td>\n",
              "      <td>1</td>\n",
              "    </tr>\n",
              "    <tr>\n",
              "      <th>22</th>\n",
              "      <td>-1.774446</td>\n",
              "      <td>-0.503487</td>\n",
              "      <td>1</td>\n",
              "    </tr>\n",
              "    <tr>\n",
              "      <th>87</th>\n",
              "      <td>-1.347947</td>\n",
              "      <td>-0.196919</td>\n",
              "      <td>1</td>\n",
              "    </tr>\n",
              "    <tr>\n",
              "      <th>96</th>\n",
              "      <td>-1.153825</td>\n",
              "      <td>-0.494453</td>\n",
              "      <td>1</td>\n",
              "    </tr>\n",
              "    <tr>\n",
              "      <th>14</th>\n",
              "      <td>-1.039782</td>\n",
              "      <td>-0.106427</td>\n",
              "      <td>1</td>\n",
              "    </tr>\n",
              "    <tr>\n",
              "      <th>84</th>\n",
              "      <td>1.986095</td>\n",
              "      <td>-1.284953</td>\n",
              "      <td>0</td>\n",
              "    </tr>\n",
              "    <tr>\n",
              "      <th>49</th>\n",
              "      <td>0.578898</td>\n",
              "      <td>-1.649036</td>\n",
              "      <td>0</td>\n",
              "    </tr>\n",
              "    <tr>\n",
              "      <th>74</th>\n",
              "      <td>1.125979</td>\n",
              "      <td>-2.884012</td>\n",
              "      <td>0</td>\n",
              "    </tr>\n",
              "    <tr>\n",
              "      <th>1</th>\n",
              "      <td>0.387900</td>\n",
              "      <td>-3.129695</td>\n",
              "      <td>0</td>\n",
              "    </tr>\n",
              "    <tr>\n",
              "      <th>73</th>\n",
              "      <td>-0.580873</td>\n",
              "      <td>-0.734898</td>\n",
              "      <td>1</td>\n",
              "    </tr>\n",
              "    <tr>\n",
              "      <th>86</th>\n",
              "      <td>1.411655</td>\n",
              "      <td>1.288265</td>\n",
              "      <td>0</td>\n",
              "    </tr>\n",
              "    <tr>\n",
              "      <th>66</th>\n",
              "      <td>0.885978</td>\n",
              "      <td>-3.087130</td>\n",
              "      <td>0</td>\n",
              "    </tr>\n",
              "    <tr>\n",
              "      <th>40</th>\n",
              "      <td>0.595038</td>\n",
              "      <td>-0.162759</td>\n",
              "      <td>0</td>\n",
              "    </tr>\n",
              "    <tr>\n",
              "      <th>91</th>\n",
              "      <td>-1.182347</td>\n",
              "      <td>-1.528637</td>\n",
              "      <td>0</td>\n",
              "    </tr>\n",
              "    <tr>\n",
              "      <th>48</th>\n",
              "      <td>-1.042498</td>\n",
              "      <td>-0.064323</td>\n",
              "      <td>1</td>\n",
              "    </tr>\n",
              "    <tr>\n",
              "      <th>92</th>\n",
              "      <td>-1.406179</td>\n",
              "      <td>-1.957413</td>\n",
              "      <td>1</td>\n",
              "    </tr>\n",
              "    <tr>\n",
              "      <th>8</th>\n",
              "      <td>-0.147061</td>\n",
              "      <td>-0.352877</td>\n",
              "      <td>0</td>\n",
              "    </tr>\n",
              "    <tr>\n",
              "      <th>89</th>\n",
              "      <td>1.305171</td>\n",
              "      <td>-0.374577</td>\n",
              "      <td>0</td>\n",
              "    </tr>\n",
              "    <tr>\n",
              "      <th>50</th>\n",
              "      <td>0.534164</td>\n",
              "      <td>-1.161223</td>\n",
              "      <td>0</td>\n",
              "    </tr>\n",
              "    <tr>\n",
              "      <th>98</th>\n",
              "      <td>-0.158598</td>\n",
              "      <td>-1.798861</td>\n",
              "      <td>0</td>\n",
              "    </tr>\n",
              "    <tr>\n",
              "      <th>83</th>\n",
              "      <td>-1.550002</td>\n",
              "      <td>-1.126191</td>\n",
              "      <td>1</td>\n",
              "    </tr>\n",
              "    <tr>\n",
              "      <th>51</th>\n",
              "      <td>-0.986968</td>\n",
              "      <td>-2.296564</td>\n",
              "      <td>1</td>\n",
              "    </tr>\n",
              "    <tr>\n",
              "      <th>54</th>\n",
              "      <td>-0.384640</td>\n",
              "      <td>-0.270707</td>\n",
              "      <td>1</td>\n",
              "    </tr>\n",
              "    <tr>\n",
              "      <th>56</th>\n",
              "      <td>-1.061683</td>\n",
              "      <td>-0.685227</td>\n",
              "      <td>1</td>\n",
              "    </tr>\n",
              "    <tr>\n",
              "      <th>91</th>\n",
              "      <td>-1.182347</td>\n",
              "      <td>-1.528637</td>\n",
              "      <td>0</td>\n",
              "    </tr>\n",
              "    <tr>\n",
              "      <th>94</th>\n",
              "      <td>-0.930578</td>\n",
              "      <td>-1.265605</td>\n",
              "      <td>1</td>\n",
              "    </tr>\n",
              "    <tr>\n",
              "      <th>49</th>\n",
              "      <td>0.578898</td>\n",
              "      <td>-1.649036</td>\n",
              "      <td>0</td>\n",
              "    </tr>\n",
              "    <tr>\n",
              "      <th>91</th>\n",
              "      <td>-1.182347</td>\n",
              "      <td>-1.528637</td>\n",
              "      <td>0</td>\n",
              "    </tr>\n",
              "    <tr>\n",
              "      <th>2</th>\n",
              "      <td>-0.943985</td>\n",
              "      <td>-1.727474</td>\n",
              "      <td>1</td>\n",
              "    </tr>\n",
              "    <tr>\n",
              "      <th>78</th>\n",
              "      <td>-1.013512</td>\n",
              "      <td>-1.587964</td>\n",
              "      <td>1</td>\n",
              "    </tr>\n",
              "  </tbody>\n",
              "</table>\n",
              "</div>"
            ],
            "text/plain": [
              "        col3      col2  target\n",
              "2  -0.943985 -1.727474       1\n",
              "53  2.879522 -1.179645       0\n",
              "17 -0.601854  0.240279       1\n",
              "12 -1.209724  0.077615       1\n",
              "8  -0.147061 -0.352877       0\n",
              "6  -1.029536 -0.770751       1\n",
              "94 -0.930578 -1.265605       1\n",
              "4   0.022074 -0.911493       0\n",
              "38  2.538559 -1.042250       0\n",
              "40  0.595038 -0.162759       0\n",
              "99  1.558165 -2.026716       0\n",
              "25 -0.256852 -3.206283       1\n",
              "91 -1.182347 -1.528637       0\n",
              "12 -1.209724  0.077615       1\n",
              "11 -0.679621 -1.275311       1\n",
              "32 -1.343188 -0.141246       1\n",
              "54 -0.384640 -0.270707       1\n",
              "79 -0.558081 -1.985678       0\n",
              "70 -0.438380 -1.497126       1\n",
              "89  1.305171 -0.374577       0\n",
              "10 -0.513609 -1.946675       1\n",
              "22 -1.774446 -0.503487       1\n",
              "87 -1.347947 -0.196919       1\n",
              "96 -1.153825 -0.494453       1\n",
              "14 -1.039782 -0.106427       1\n",
              "84  1.986095 -1.284953       0\n",
              "49  0.578898 -1.649036       0\n",
              "74  1.125979 -2.884012       0\n",
              "1   0.387900 -3.129695       0\n",
              "73 -0.580873 -0.734898       1\n",
              "86  1.411655  1.288265       0\n",
              "66  0.885978 -3.087130       0\n",
              "40  0.595038 -0.162759       0\n",
              "91 -1.182347 -1.528637       0\n",
              "48 -1.042498 -0.064323       1\n",
              "92 -1.406179 -1.957413       1\n",
              "8  -0.147061 -0.352877       0\n",
              "89  1.305171 -0.374577       0\n",
              "50  0.534164 -1.161223       0\n",
              "98 -0.158598 -1.798861       0\n",
              "83 -1.550002 -1.126191       1\n",
              "51 -0.986968 -2.296564       1\n",
              "54 -0.384640 -0.270707       1\n",
              "56 -1.061683 -0.685227       1\n",
              "91 -1.182347 -1.528637       0\n",
              "94 -0.930578 -1.265605       1\n",
              "49  0.578898 -1.649036       0\n",
              "91 -1.182347 -1.528637       0\n",
              "2  -0.943985 -1.727474       1\n",
              "78 -1.013512 -1.587964       1"
            ]
          },
          "execution_count": 141,
          "metadata": {
            "tags": []
          },
          "output_type": "execute_result"
        }
      ],
      "source": [
        "df3"
      ]
    },
    {
      "cell_type": "code",
      "execution_count": null,
      "metadata": {
        "id": "Ee9eCA0tbdlo"
      },
      "outputs": [],
      "source": [
        "from sklearn.tree import DecisionTreeClassifier\n",
        "clf1 = DecisionTreeClassifier()\n",
        "clf2 = DecisionTreeClassifier()\n",
        "clf3 = DecisionTreeClassifier()"
      ]
    },
    {
      "cell_type": "code",
      "execution_count": null,
      "metadata": {
        "colab": {
          "base_uri": "https://localhost:8080/"
        },
        "id": "FsbRwvPGbskE",
        "outputId": "ea00a6c2-c5c9-413b-ec38-071670643e3e"
      },
      "outputs": [
        {
          "data": {
            "text/plain": [
              "DecisionTreeClassifier(ccp_alpha=0.0, class_weight=None, criterion='gini',\n",
              "                       max_depth=None, max_features=None, max_leaf_nodes=None,\n",
              "                       min_impurity_decrease=0.0, min_impurity_split=None,\n",
              "                       min_samples_leaf=1, min_samples_split=2,\n",
              "                       min_weight_fraction_leaf=0.0, presort='deprecated',\n",
              "                       random_state=None, splitter='best')"
            ]
          },
          "execution_count": 137,
          "metadata": {
            "tags": []
          },
          "output_type": "execute_result"
        }
      ],
      "source": [
        "clf1.fit(df1.iloc[:,0:2],df1.iloc[:,-1])\n",
        "clf2.fit(df2.iloc[:,0:2],df2.iloc[:,-1])\n",
        "clf3.fit(df3.iloc[:,0:2],df3.iloc[:,-1])"
      ]
    },
    {
      "cell_type": "code",
      "execution_count": null,
      "metadata": {
        "id": "1TgG9KBcb75I"
      },
      "outputs": [],
      "source": [
        "from sklearn.tree import plot_tree"
      ]
    },
    {
      "cell_type": "code",
      "execution_count": null,
      "metadata": {
        "colab": {
          "base_uri": "https://localhost:8080/",
          "height": 542
        },
        "id": "ezaWbbKlcDo8",
        "outputId": "eccea661-a3d3-40f6-f6de-2e90ffd2be78"
      },
      "outputs": [
        {
          "data": {
            "text/plain": [
              "[Text(167.4, 199.32, 'X[1] <= 0.417\\ngini = 0.487\\nsamples = 50\\nvalue = [21, 29]'),\n",
              " Text(55.800000000000004, 163.07999999999998, 'X[0] <= -1.244\\ngini = 0.198\\nsamples = 27\\nvalue = [3, 24]'),\n",
              " Text(27.900000000000002, 126.83999999999999, 'gini = 0.0\\nsamples = 2\\nvalue = [2, 0]'),\n",
              " Text(83.7, 126.83999999999999, 'X[1] <= 0.149\\ngini = 0.077\\nsamples = 25\\nvalue = [1, 24]'),\n",
              " Text(55.800000000000004, 90.6, 'gini = 0.0\\nsamples = 22\\nvalue = [0, 22]'),\n",
              " Text(111.60000000000001, 90.6, 'X[0] <= 1.129\\ngini = 0.444\\nsamples = 3\\nvalue = [1, 2]'),\n",
              " Text(83.7, 54.359999999999985, 'gini = 0.0\\nsamples = 1\\nvalue = [1, 0]'),\n",
              " Text(139.5, 54.359999999999985, 'gini = 0.0\\nsamples = 2\\nvalue = [0, 2]'),\n",
              " Text(279.0, 163.07999999999998, 'X[1] <= 2.099\\ngini = 0.34\\nsamples = 23\\nvalue = [18, 5]'),\n",
              " Text(251.10000000000002, 126.83999999999999, 'X[1] <= 1.129\\ngini = 0.245\\nsamples = 21\\nvalue = [18, 3]'),\n",
              " Text(223.20000000000002, 90.6, 'X[1] <= 0.901\\ngini = 0.397\\nsamples = 11\\nvalue = [8, 3]'),\n",
              " Text(195.3, 54.359999999999985, 'X[0] <= 1.885\\ngini = 0.198\\nsamples = 9\\nvalue = [8, 1]'),\n",
              " Text(167.4, 18.119999999999976, 'gini = 0.0\\nsamples = 8\\nvalue = [8, 0]'),\n",
              " Text(223.20000000000002, 18.119999999999976, 'gini = 0.0\\nsamples = 1\\nvalue = [0, 1]'),\n",
              " Text(251.10000000000002, 54.359999999999985, 'gini = 0.0\\nsamples = 2\\nvalue = [0, 2]'),\n",
              " Text(279.0, 90.6, 'gini = 0.0\\nsamples = 10\\nvalue = [10, 0]'),\n",
              " Text(306.90000000000003, 126.83999999999999, 'gini = 0.0\\nsamples = 2\\nvalue = [0, 2]')]"
            ]
          },
          "execution_count": 138,
          "metadata": {
            "tags": []
          },
          "output_type": "execute_result"
        },
        {
          "data": {
            "image/png": "[encoded data removed]",
            "text/plain": [
              "<Figure size 432x288 with 1 Axes>"
            ]
          },
          "metadata": {
            "needs_background": "light",
            "tags": []
          },
          "output_type": "display_data"
        }
      ],
      "source": [
        "plot_tree(clf1)"
      ]
    },
    {
      "cell_type": "code",
      "execution_count": null,
      "metadata": {
        "colab": {
          "base_uri": "https://localhost:8080/",
          "height": 473
        },
        "id": "hYpTwnxOcFgA",
        "outputId": "1191ef5b-7551-402d-8ccb-593eb90ad126"
      },
      "outputs": [
        {
          "data": {
            "text/plain": [
              "[Text(209.25, 201.90857142857143, 'X[1] <= -0.391\\ngini = 0.5\\nsamples = 50\\nvalue = [25, 25]'),\n",
              " Text(167.4, 170.84571428571428, 'gini = 0.0\\nsamples = 17\\nvalue = [0, 17]'),\n",
              " Text(251.10000000000002, 170.84571428571428, 'X[0] <= 3.267\\ngini = 0.367\\nsamples = 33\\nvalue = [25, 8]'),\n",
              " Text(209.25, 139.78285714285715, 'X[1] <= 0.588\\ngini = 0.278\\nsamples = 30\\nvalue = [25, 5]'),\n",
              " Text(167.4, 108.72, 'X[1] <= 0.357\\ngini = 0.496\\nsamples = 11\\nvalue = [6, 5]'),\n",
              " Text(125.55000000000001, 77.65714285714284, 'X[1] <= -0.15\\ngini = 0.245\\nsamples = 7\\nvalue = [6, 1]'),\n",
              " Text(83.7, 46.59428571428572, 'X[1] <= -0.162\\ngini = 0.5\\nsamples = 2\\nvalue = [1, 1]'),\n",
              " Text(41.85, 15.531428571428563, 'gini = 0.0\\nsamples = 1\\nvalue = [1, 0]'),\n",
              " Text(125.55000000000001, 15.531428571428563, 'gini = 0.0\\nsamples = 1\\nvalue = [0, 1]'),\n",
              " Text(167.4, 46.59428571428572, 'gini = 0.0\\nsamples = 5\\nvalue = [5, 0]'),\n",
              " Text(209.25, 77.65714285714284, 'gini = 0.0\\nsamples = 4\\nvalue = [0, 4]'),\n",
              " Text(251.10000000000002, 108.72, 'gini = 0.0\\nsamples = 19\\nvalue = [19, 0]'),\n",
              " Text(292.95, 139.78285714285715, 'gini = 0.0\\nsamples = 3\\nvalue = [0, 3]')]"
            ]
          },
          "execution_count": 139,
          "metadata": {
            "tags": []
          },
          "output_type": "execute_result"
        },
        {
          "data": {
            "image/png": "[encoded data removed]",
            "text/plain": [
              "<Figure size 432x288 with 1 Axes>"
            ]
          },
          "metadata": {
            "needs_background": "light",
            "tags": []
          },
          "output_type": "display_data"
        }
      ],
      "source": [
        "plot_tree(clf2)"
      ]
    },
    {
      "cell_type": "code",
      "execution_count": null,
      "metadata": {
        "colab": {
          "base_uri": "https://localhost:8080/",
          "height": 438
        },
        "id": "hoW0vMXScRMk",
        "outputId": "2e9d4596-08e9-46dc-c440-1584ebd9f95a"
      },
      "outputs": [
        {
          "data": {
            "text/plain": [
              "[Text(251.10000000000002, 199.32, 'X[0] <= -0.208\\ngini = 0.499\\nsamples = 50\\nvalue = [24, 26]'),\n",
              " Text(209.25, 163.07999999999998, 'X[1] <= -1.513\\ngini = 0.271\\nsamples = 31\\nvalue = [5, 26]'),\n",
              " Text(167.4, 126.83999999999999, 'X[1] <= -1.558\\ngini = 0.486\\nsamples = 12\\nvalue = [5, 7]'),\n",
              " Text(125.55000000000001, 90.6, 'X[1] <= -1.972\\ngini = 0.219\\nsamples = 8\\nvalue = [1, 7]'),\n",
              " Text(83.7, 54.359999999999985, 'X[1] <= -2.141\\ngini = 0.444\\nsamples = 3\\nvalue = [1, 2]'),\n",
              " Text(41.85, 18.119999999999976, 'gini = 0.0\\nsamples = 2\\nvalue = [0, 2]'),\n",
              " Text(125.55000000000001, 18.119999999999976, 'gini = 0.0\\nsamples = 1\\nvalue = [1, 0]'),\n",
              " Text(167.4, 54.359999999999985, 'gini = 0.0\\nsamples = 5\\nvalue = [0, 5]'),\n",
              " Text(209.25, 90.6, 'gini = 0.0\\nsamples = 4\\nvalue = [4, 0]'),\n",
              " Text(251.10000000000002, 126.83999999999999, 'gini = 0.0\\nsamples = 19\\nvalue = [0, 19]'),\n",
              " Text(292.95, 163.07999999999998, 'gini = 0.0\\nsamples = 19\\nvalue = [19, 0]')]"
            ]
          },
          "execution_count": 140,
          "metadata": {
            "tags": []
          },
          "output_type": "execute_result"
        },
        {
          "data": {
            "image/png": "[encoded data removed]",
            "text/plain": [
              "<Figure size 432x288 with 1 Axes>"
            ]
          },
          "metadata": {
            "needs_background": "light",
            "tags": []
          },
          "output_type": "display_data"
        }
      ],
      "source": [
        "plot_tree(clf3)"
      ]
    },
    {
      "cell_type": "code",
      "execution_count": null,
      "metadata": {
        "colab": {
          "base_uri": "https://localhost:8080/"
        },
        "id": "I6TF3rdncVt0",
        "outputId": "c55af97d-a9fd-4f7d-c740-101551f4fc3d"
      },
      "outputs": [
        {
          "data": {
            "text/plain": [
              "array([1])"
            ]
          },
          "execution_count": 143,
          "metadata": {
            "tags": []
          },
          "output_type": "execute_result"
        }
      ],
      "source": [
        "clf1.predict(np.array([-1.042498,\t-0.064323]).reshape(1,2))"
      ]
    },
    {
      "cell_type": "code",
      "execution_count": null,
      "metadata": {
        "colab": {
          "base_uri": "https://localhost:8080/"
        },
        "id": "VM7HvDCqiMo0",
        "outputId": "26db8422-8897-48fa-dff6-cf21e9aef41b"
      },
      "outputs": [
        {
          "data": {
            "text/plain": [
              "array([0])"
            ]
          },
          "execution_count": 144,
          "metadata": {
            "tags": []
          },
          "output_type": "execute_result"
        }
      ],
      "source": [
        "clf2.predict(np.array([-1.042498,\t-0.064323]).reshape(1,2))"
      ]
    },
    {
      "cell_type": "code",
      "execution_count": null,
      "metadata": {
        "colab": {
          "base_uri": "https://localhost:8080/"
        },
        "id": "ppIM05J2iTYg",
        "outputId": "7b181b3f-3ab5-46bc-da57-28b3be2402f0"
      },
      "outputs": [
        {
          "data": {
            "text/plain": [
              "array([1])"
            ]
          },
          "execution_count": 145,
          "metadata": {
            "tags": []
          },
          "output_type": "execute_result"
        }
      ],
      "source": [
        "clf3.predict(np.array([-1.042498,\t-0.064323]).reshape(1,2))"
      ]
    },
    {
      "cell_type": "code",
      "execution_count": null,
      "metadata": {
        "colab": {
          "base_uri": "https://localhost:8080/",
          "height": 465
        },
        "id": "nIrui56hiU7X",
        "outputId": "64d6f3ff-47dd-43ea-b57f-d94bf14cec1e"
      },
      "outputs": [
        {
          "data": {
            "text/html": [
              "<div>\n",
              "<style scoped>\n",
              "    .dataframe tbody tr th:only-of-type {\n",
              "        vertical-align: middle;\n",
              "    }\n",
              "\n",
              "    .dataframe tbody tr th {\n",
              "        vertical-align: top;\n",
              "    }\n",
              "\n",
              "    .dataframe thead th {\n",
              "        text-align: right;\n",
              "    }\n",
              "</style>\n",
              "<table border=\"1\" class=\"dataframe\">\n",
              "  <thead>\n",
              "    <tr style=\"text-align: right;\">\n",
              "      <th></th>\n",
              "      <th>humidity</th>\n",
              "      <th>wind</th>\n",
              "      <th>play</th>\n",
              "    </tr>\n",
              "  </thead>\n",
              "  <tbody>\n",
              "    <tr>\n",
              "      <th>0</th>\n",
              "      <td>0</td>\n",
              "      <td>1</td>\n",
              "      <td>0</td>\n",
              "    </tr>\n",
              "    <tr>\n",
              "      <th>0</th>\n",
              "      <td>0</td>\n",
              "      <td>1</td>\n",
              "      <td>0</td>\n",
              "    </tr>\n",
              "    <tr>\n",
              "      <th>0</th>\n",
              "      <td>0</td>\n",
              "      <td>1</td>\n",
              "      <td>0</td>\n",
              "    </tr>\n",
              "    <tr>\n",
              "      <th>10</th>\n",
              "      <td>1</td>\n",
              "      <td>0</td>\n",
              "      <td>1</td>\n",
              "    </tr>\n",
              "    <tr>\n",
              "      <th>13</th>\n",
              "      <td>0</td>\n",
              "      <td>0</td>\n",
              "      <td>0</td>\n",
              "    </tr>\n",
              "    <tr>\n",
              "      <th>4</th>\n",
              "      <td>1</td>\n",
              "      <td>1</td>\n",
              "      <td>1</td>\n",
              "    </tr>\n",
              "    <tr>\n",
              "      <th>7</th>\n",
              "      <td>0</td>\n",
              "      <td>1</td>\n",
              "      <td>0</td>\n",
              "    </tr>\n",
              "    <tr>\n",
              "      <th>6</th>\n",
              "      <td>1</td>\n",
              "      <td>0</td>\n",
              "      <td>1</td>\n",
              "    </tr>\n",
              "    <tr>\n",
              "      <th>4</th>\n",
              "      <td>1</td>\n",
              "      <td>1</td>\n",
              "      <td>1</td>\n",
              "    </tr>\n",
              "    <tr>\n",
              "      <th>3</th>\n",
              "      <td>0</td>\n",
              "      <td>1</td>\n",
              "      <td>1</td>\n",
              "    </tr>\n",
              "    <tr>\n",
              "      <th>9</th>\n",
              "      <td>1</td>\n",
              "      <td>1</td>\n",
              "      <td>1</td>\n",
              "    </tr>\n",
              "    <tr>\n",
              "      <th>8</th>\n",
              "      <td>1</td>\n",
              "      <td>1</td>\n",
              "      <td>1</td>\n",
              "    </tr>\n",
              "    <tr>\n",
              "      <th>10</th>\n",
              "      <td>1</td>\n",
              "      <td>0</td>\n",
              "      <td>1</td>\n",
              "    </tr>\n",
              "    <tr>\n",
              "      <th>2</th>\n",
              "      <td>0</td>\n",
              "      <td>1</td>\n",
              "      <td>1</td>\n",
              "    </tr>\n",
              "  </tbody>\n",
              "</table>\n",
              "</div>"
            ],
            "text/plain": [
              "    humidity  wind  play\n",
              "0          0     1     0\n",
              "0          0     1     0\n",
              "0          0     1     0\n",
              "10         1     0     1\n",
              "13         0     0     0\n",
              "4          1     1     1\n",
              "7          0     1     0\n",
              "6          1     0     1\n",
              "4          1     1     1\n",
              "3          0     1     1\n",
              "9          1     1     1\n",
              "8          1     1     1\n",
              "10         1     0     1\n",
              "2          0     1     1"
            ]
          },
          "execution_count": 37,
          "metadata": {
            "tags": []
          },
          "output_type": "execute_result"
        }
      ],
      "source": [
        "df.sample(14,replace=True)"
      ]
    },
    {
      "cell_type": "code",
      "execution_count": null,
      "metadata": {
        "id": "LCVUEl5okDtB"
      },
      "outputs": [],
      "source": []
    }
  ],
  "metadata": {
    "colab": {
      "name": "rf-learning-tool.ipynb",
      "provenance": []
    },
    "kernelspec": {
      "display_name": "Python 3",
      "name": "python3"
    },
    "language_info": {
      "codemirror_mode": {
        "name": "ipython",
        "version": 3
      },
      "file_extension": ".py",
      "mimetype": "text/x-python",
      "name": "python",
      "nbconvert_exporter": "python",
      "pygments_lexer": "ipython3",
      "version": "3.10.11"
    }
  },
  "nbformat": 4,
  "nbformat_minor": 0
}
